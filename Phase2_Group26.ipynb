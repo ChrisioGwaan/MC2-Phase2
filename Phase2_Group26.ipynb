{
 "cells": [
  {
   "cell_type": "markdown",
   "id": "e5c85eb9",
   "metadata": {},
   "source": [
    "# Predicting the Satisfaction Level of Airplane Passengers\n",
    "## Phase 2: Statistical Modelling"
   ]
  },
  {
   "cell_type": "markdown",
   "id": "d1e87812",
   "metadata": {},
   "source": [
    "#### Group Name: Group 26\n",
    "\n",
    "#### Name(s) & ID(s) of Group Members:\n",
    "* Lai Pak Yin (s3827212)\n",
    "* Weixi Guan (s3830776)\n",
    "#### "
   ]
  },
  {
   "cell_type": "markdown",
   "id": "9c05f83f",
   "metadata": {},
   "source": [
    "## Table of Contents\n",
    "- [Introduction](#intro)\n",
    "- [Statistical Modelling](#sm)\n",
    "- [Neural Network Model Fitting & Tuning](#Review)\n",
    "- [Critique & Limitations](#cl)\n",
    "- [Summary & Conclusions](#sc)"
   ]
  },
  {
   "cell_type": "markdown",
   "id": "db85d44e",
   "metadata": {},
   "source": [
    "## Introduction <a id='intro'></a>"
   ]
  },
  {
   "cell_type": "markdown",
   "id": "e51b156c",
   "metadata": {},
   "source": [
    "### Phase 1 Summary"
   ]
  },
  {
   "cell_type": "markdown",
   "id": "f31e348c",
   "metadata": {},
   "source": [
    "In Phase 1, we completed the data cleaning & preprocessing and data visualisation tasks. We have dropped the variables that contain similar information in the csv file. For example, `inflight_wifi_service`, `inflight_entertainment`, `ease_of_online_booking` and `online_boarding` are dropped because they can be explained by other variable. \n",
    "\n",
    "For data visualisation tasks, we created some graph to explain variables in the dataset. By using the explanatory variables, we can concluded that the overall ratio of passenger felt neutral or dissatisfied are higher than satisfied. When comparing short and long distance flight, people keen on choose business class if they have a long flight distance and their satisfied ratio are highest compared with Eco class and Eco plus class. Therefore, passengers tend to feel neutral or not satisfied when they are travelling without business class in any distance. "
   ]
  },
  {
   "cell_type": "markdown",
   "id": "f0b68541",
   "metadata": {},
   "source": [
    "### Report Overview"
   ]
  },
  {
   "cell_type": "markdown",
   "id": "806a535b",
   "metadata": {},
   "source": [
    "For our Phase 2 assignment, we are going to perform statistical modelling with our csv file. We will start by introducing the methodology that we are going to use and an overview about our model. Then, we will start analysis our csv file by model fitting our data. We will also present 5 different fine-tuning plots for our Neural Network Model Fitting & Tuning and concluded a summary of our project to summarise our findings and the strengths and weaknesses of this project."
   ]
  },
  {
   "cell_type": "markdown",
   "id": "2990c217",
   "metadata": {},
   "source": [
    "### Overview of Methodology"
   ]
  },
  {
   "cell_type": "markdown",
   "id": "eba5353a",
   "metadata": {},
   "source": [
    "TODO: Still thinking"
   ]
  },
  {
   "cell_type": "markdown",
   "id": "5a21b036",
   "metadata": {},
   "source": [
    "## Statistical Modelling <a id='sm'></a>"
   ]
  },
  {
   "cell_type": "markdown",
   "id": "1419a25d",
   "metadata": {},
   "source": [
    "### Model Overview"
   ]
  },
  {
   "cell_type": "markdown",
   "id": "dbe9a41f",
   "metadata": {},
   "source": [
    "#### Module Imports"
   ]
  },
  {
   "cell_type": "code",
   "execution_count": 79,
   "id": "7daff6d6",
   "metadata": {},
   "outputs": [],
   "source": [
    "import numpy as np\n",
    "import pandas as pd\n",
    "import matplotlib.pyplot as plt\n",
    "import seaborn as sns\n",
    "import statsmodels.api as sm\n",
    "import statsmodels.formula.api as smf\n",
    "import patsy\n",
    "\n",
    "import warnings\n",
    "warnings.filterwarnings('ignore')\n",
    "\n",
    "pd.set_option('display.max_columns', None) \n",
    "\n",
    "%matplotlib inline \n",
    "%config InlineBackend.figure_format = 'retina'\n",
    "plt.style.use(\"ggplot\")\n",
    "\n",
    "csc = pd.read_csv('Phase2_Group26.csv')"
   ]
  },
  {
   "cell_type": "markdown",
   "id": "79aec681",
   "metadata": {},
   "source": [
    "Before we begin the statistical modelling, we need to use a dataset table with the clean data."
   ]
  },
  {
   "cell_type": "code",
   "execution_count": 80,
   "id": "8ff5fc4b",
   "metadata": {},
   "outputs": [
    {
     "data": {
      "text/html": [
       "<div>\n",
       "<style scoped>\n",
       "    .dataframe tbody tr th:only-of-type {\n",
       "        vertical-align: middle;\n",
       "    }\n",
       "\n",
       "    .dataframe tbody tr th {\n",
       "        vertical-align: top;\n",
       "    }\n",
       "\n",
       "    .dataframe thead th {\n",
       "        text-align: right;\n",
       "    }\n",
       "</style>\n",
       "<table border=\"1\" class=\"dataframe\">\n",
       "  <thead>\n",
       "    <tr style=\"text-align: right;\">\n",
       "      <th></th>\n",
       "      <th>gender</th>\n",
       "      <th>customer_type</th>\n",
       "      <th>age</th>\n",
       "      <th>type_of_travel</th>\n",
       "      <th>customer_class</th>\n",
       "      <th>flight_distance</th>\n",
       "      <th>departure_arrival_time_convenient</th>\n",
       "      <th>gate_location</th>\n",
       "      <th>seat_comfort</th>\n",
       "      <th>onboard_service</th>\n",
       "      <th>inflight_service</th>\n",
       "      <th>cleanliness</th>\n",
       "      <th>departure_delay_in_minutes</th>\n",
       "      <th>satisfaction</th>\n",
       "    </tr>\n",
       "  </thead>\n",
       "  <tbody>\n",
       "    <tr>\n",
       "      <th>117352</th>\n",
       "      <td>Male</td>\n",
       "      <td>Loyal_Customer</td>\n",
       "      <td>41</td>\n",
       "      <td>Business travel</td>\n",
       "      <td>Eco</td>\n",
       "      <td>996</td>\n",
       "      <td>4</td>\n",
       "      <td>4</td>\n",
       "      <td>5</td>\n",
       "      <td>4</td>\n",
       "      <td>5</td>\n",
       "      <td>5</td>\n",
       "      <td>80</td>\n",
       "      <td>satisfied</td>\n",
       "    </tr>\n",
       "    <tr>\n",
       "      <th>75928</th>\n",
       "      <td>Male</td>\n",
       "      <td>Loyal_Customer</td>\n",
       "      <td>38</td>\n",
       "      <td>Business travel</td>\n",
       "      <td>Business</td>\n",
       "      <td>3463</td>\n",
       "      <td>5</td>\n",
       "      <td>5</td>\n",
       "      <td>5</td>\n",
       "      <td>5</td>\n",
       "      <td>5</td>\n",
       "      <td>2</td>\n",
       "      <td>0</td>\n",
       "      <td>satisfied</td>\n",
       "    </tr>\n",
       "    <tr>\n",
       "      <th>26682</th>\n",
       "      <td>Male</td>\n",
       "      <td>Loyal_Customer</td>\n",
       "      <td>36</td>\n",
       "      <td>Personal_Travel</td>\n",
       "      <td>Eco</td>\n",
       "      <td>361</td>\n",
       "      <td>5</td>\n",
       "      <td>3</td>\n",
       "      <td>2</td>\n",
       "      <td>4</td>\n",
       "      <td>4</td>\n",
       "      <td>2</td>\n",
       "      <td>0</td>\n",
       "      <td>neutral_or_dissatisfied</td>\n",
       "    </tr>\n",
       "    <tr>\n",
       "      <th>47086</th>\n",
       "      <td>Male</td>\n",
       "      <td>Loyal_Customer</td>\n",
       "      <td>15</td>\n",
       "      <td>Personal_Travel</td>\n",
       "      <td>Eco</td>\n",
       "      <td>216</td>\n",
       "      <td>4</td>\n",
       "      <td>2</td>\n",
       "      <td>4</td>\n",
       "      <td>3</td>\n",
       "      <td>4</td>\n",
       "      <td>4</td>\n",
       "      <td>0</td>\n",
       "      <td>neutral_or_dissatisfied</td>\n",
       "    </tr>\n",
       "    <tr>\n",
       "      <th>95174</th>\n",
       "      <td>Male</td>\n",
       "      <td>Loyal_Customer</td>\n",
       "      <td>65</td>\n",
       "      <td>Personal_Travel</td>\n",
       "      <td>Eco</td>\n",
       "      <td>257</td>\n",
       "      <td>5</td>\n",
       "      <td>5</td>\n",
       "      <td>4</td>\n",
       "      <td>1</td>\n",
       "      <td>5</td>\n",
       "      <td>4</td>\n",
       "      <td>0</td>\n",
       "      <td>neutral_or_dissatisfied</td>\n",
       "    </tr>\n",
       "  </tbody>\n",
       "</table>\n",
       "</div>"
      ],
      "text/plain": [
       "       gender   customer_type  age   type_of_travel customer_class  \\\n",
       "117352   Male  Loyal_Customer   41  Business travel            Eco   \n",
       "75928    Male  Loyal_Customer   38  Business travel       Business   \n",
       "26682    Male  Loyal_Customer   36  Personal_Travel            Eco   \n",
       "47086    Male  Loyal_Customer   15  Personal_Travel            Eco   \n",
       "95174    Male  Loyal_Customer   65  Personal_Travel            Eco   \n",
       "\n",
       "        flight_distance  departure_arrival_time_convenient  gate_location  \\\n",
       "117352              996                                  4              4   \n",
       "75928              3463                                  5              5   \n",
       "26682               361                                  5              3   \n",
       "47086               216                                  4              2   \n",
       "95174               257                                  5              5   \n",
       "\n",
       "        seat_comfort  onboard_service  inflight_service  cleanliness  \\\n",
       "117352             5                4                 5            5   \n",
       "75928              5                5                 5            2   \n",
       "26682              2                4                 4            2   \n",
       "47086              4                3                 4            4   \n",
       "95174              4                1                 5            4   \n",
       "\n",
       "        departure_delay_in_minutes             satisfaction  \n",
       "117352                          80                satisfied  \n",
       "75928                            0                satisfied  \n",
       "26682                            0  neutral_or_dissatisfied  \n",
       "47086                            0  neutral_or_dissatisfied  \n",
       "95174                            0  neutral_or_dissatisfied  "
      ]
     },
     "execution_count": 80,
     "metadata": {},
     "output_type": "execute_result"
    }
   ],
   "source": [
    "# Drop irrelevant/repeated columns/features\n",
    "csc = csc.drop(columns=[\"inflight_wifi_service\", \n",
    "                        \"inflight_entertainment\", \n",
    "                        \"food_and_drink\", \n",
    "                        \"leg_room_service\", \n",
    "                        \"ease_of_online_booking\",\n",
    "                        \"online_boarding\",\n",
    "                        \"baggage_handling\",\n",
    "                        \"checkin_service\"])\n",
    "\n",
    "# Replace 'F' and 'M' with 'Female' and 'Male' respectively\n",
    "csc['Gender'] = csc['Gender'].replace({'M':'Male', 'F':'Female'})\n",
    "csc['customer_class'] = csc['customer_class'].replace({'Eco Plus':'Eco_Plus'})\n",
    "csc['customer_type'] = csc['customer_type'].replace({'Loyal Customer':'Loyal_Customer', 'disloyal Customer':'Disloyal_Customer'})\n",
    "csc['satisfaction'] = csc['satisfaction'].replace({'neutral or dissatisfied':'neutral_or_dissatisfied'})\n",
    "csc['type_of_travel'] = csc['type_of_travel'].replace({'Personal Travel':'Personal_Travel'})\n",
    "\n",
    "# Make column names lower case\n",
    "# Remove any white spaces before & after the column names\n",
    "csc.columns = csc.columns.str.lower().str.strip()\n",
    "\n",
    "# Drop all rows with missing values/NaN\n",
    "csc = csc.drop(columns='arrival_delay_in_minutes')\n",
    "csc.sample(5, random_state=999)"
   ]
  },
  {
   "cell_type": "markdown",
   "id": "64556dfa",
   "metadata": {},
   "source": [
    "### Model Fitting"
   ]
  },
  {
   "cell_type": "markdown",
   "id": "b59080e1",
   "metadata": {},
   "source": [
    "#### Full Model\n",
    "\n",
    "We start to fit a multiple linear regression that predicts `age` using all of the available features and we name this the full model.\n",
    "\n",
    "First, we show the data frame from the clean data."
   ]
  },
  {
   "cell_type": "code",
   "execution_count": 81,
   "id": "7141403b",
   "metadata": {
    "scrolled": false
   },
   "outputs": [
    {
     "data": {
      "text/html": [
       "<div>\n",
       "<style scoped>\n",
       "    .dataframe tbody tr th:only-of-type {\n",
       "        vertical-align: middle;\n",
       "    }\n",
       "\n",
       "    .dataframe tbody tr th {\n",
       "        vertical-align: top;\n",
       "    }\n",
       "\n",
       "    .dataframe thead th {\n",
       "        text-align: right;\n",
       "    }\n",
       "</style>\n",
       "<table border=\"1\" class=\"dataframe\">\n",
       "  <thead>\n",
       "    <tr style=\"text-align: right;\">\n",
       "      <th></th>\n",
       "      <th>gender</th>\n",
       "      <th>customer_type</th>\n",
       "      <th>age</th>\n",
       "      <th>type_of_travel</th>\n",
       "      <th>customer_class</th>\n",
       "      <th>flight_distance</th>\n",
       "      <th>departure_arrival_time_convenient</th>\n",
       "      <th>gate_location</th>\n",
       "      <th>seat_comfort</th>\n",
       "      <th>onboard_service</th>\n",
       "      <th>inflight_service</th>\n",
       "      <th>cleanliness</th>\n",
       "      <th>departure_delay_in_minutes</th>\n",
       "      <th>satisfaction</th>\n",
       "    </tr>\n",
       "  </thead>\n",
       "  <tbody>\n",
       "    <tr>\n",
       "      <th>0</th>\n",
       "      <td>Male</td>\n",
       "      <td>Loyal_Customer</td>\n",
       "      <td>13</td>\n",
       "      <td>Personal_Travel</td>\n",
       "      <td>Eco_Plus</td>\n",
       "      <td>460</td>\n",
       "      <td>4</td>\n",
       "      <td>1</td>\n",
       "      <td>5</td>\n",
       "      <td>4</td>\n",
       "      <td>5</td>\n",
       "      <td>5</td>\n",
       "      <td>25</td>\n",
       "      <td>neutral_or_dissatisfied</td>\n",
       "    </tr>\n",
       "    <tr>\n",
       "      <th>1</th>\n",
       "      <td>Male</td>\n",
       "      <td>Disloyal_Customer</td>\n",
       "      <td>25</td>\n",
       "      <td>Business travel</td>\n",
       "      <td>Business</td>\n",
       "      <td>235</td>\n",
       "      <td>2</td>\n",
       "      <td>3</td>\n",
       "      <td>1</td>\n",
       "      <td>1</td>\n",
       "      <td>4</td>\n",
       "      <td>1</td>\n",
       "      <td>1</td>\n",
       "      <td>neutral_or_dissatisfied</td>\n",
       "    </tr>\n",
       "    <tr>\n",
       "      <th>2</th>\n",
       "      <td>Female</td>\n",
       "      <td>Loyal_Customer</td>\n",
       "      <td>26</td>\n",
       "      <td>Business travel</td>\n",
       "      <td>Business</td>\n",
       "      <td>1142</td>\n",
       "      <td>2</td>\n",
       "      <td>2</td>\n",
       "      <td>5</td>\n",
       "      <td>4</td>\n",
       "      <td>4</td>\n",
       "      <td>5</td>\n",
       "      <td>0</td>\n",
       "      <td>satisfied</td>\n",
       "    </tr>\n",
       "    <tr>\n",
       "      <th>3</th>\n",
       "      <td>Female</td>\n",
       "      <td>Loyal_Customer</td>\n",
       "      <td>25</td>\n",
       "      <td>Business travel</td>\n",
       "      <td>Business</td>\n",
       "      <td>562</td>\n",
       "      <td>5</td>\n",
       "      <td>5</td>\n",
       "      <td>2</td>\n",
       "      <td>2</td>\n",
       "      <td>4</td>\n",
       "      <td>2</td>\n",
       "      <td>11</td>\n",
       "      <td>neutral_or_dissatisfied</td>\n",
       "    </tr>\n",
       "    <tr>\n",
       "      <th>4</th>\n",
       "      <td>Male</td>\n",
       "      <td>Loyal_Customer</td>\n",
       "      <td>61</td>\n",
       "      <td>Business travel</td>\n",
       "      <td>Business</td>\n",
       "      <td>214</td>\n",
       "      <td>3</td>\n",
       "      <td>3</td>\n",
       "      <td>5</td>\n",
       "      <td>3</td>\n",
       "      <td>3</td>\n",
       "      <td>3</td>\n",
       "      <td>0</td>\n",
       "      <td>satisfied</td>\n",
       "    </tr>\n",
       "    <tr>\n",
       "      <th>5</th>\n",
       "      <td>Female</td>\n",
       "      <td>Loyal_Customer</td>\n",
       "      <td>26</td>\n",
       "      <td>Personal_Travel</td>\n",
       "      <td>Eco</td>\n",
       "      <td>1180</td>\n",
       "      <td>4</td>\n",
       "      <td>1</td>\n",
       "      <td>1</td>\n",
       "      <td>3</td>\n",
       "      <td>4</td>\n",
       "      <td>1</td>\n",
       "      <td>0</td>\n",
       "      <td>neutral_or_dissatisfied</td>\n",
       "    </tr>\n",
       "    <tr>\n",
       "      <th>6</th>\n",
       "      <td>Male</td>\n",
       "      <td>Loyal_Customer</td>\n",
       "      <td>47</td>\n",
       "      <td>Personal_Travel</td>\n",
       "      <td>Eco</td>\n",
       "      <td>1276</td>\n",
       "      <td>4</td>\n",
       "      <td>3</td>\n",
       "      <td>2</td>\n",
       "      <td>3</td>\n",
       "      <td>5</td>\n",
       "      <td>2</td>\n",
       "      <td>9</td>\n",
       "      <td>neutral_or_dissatisfied</td>\n",
       "    </tr>\n",
       "    <tr>\n",
       "      <th>7</th>\n",
       "      <td>Female</td>\n",
       "      <td>Loyal_Customer</td>\n",
       "      <td>52</td>\n",
       "      <td>Business travel</td>\n",
       "      <td>Business</td>\n",
       "      <td>2035</td>\n",
       "      <td>3</td>\n",
       "      <td>4</td>\n",
       "      <td>5</td>\n",
       "      <td>5</td>\n",
       "      <td>5</td>\n",
       "      <td>4</td>\n",
       "      <td>4</td>\n",
       "      <td>satisfied</td>\n",
       "    </tr>\n",
       "    <tr>\n",
       "      <th>8</th>\n",
       "      <td>Female</td>\n",
       "      <td>Loyal_Customer</td>\n",
       "      <td>41</td>\n",
       "      <td>Business travel</td>\n",
       "      <td>Business</td>\n",
       "      <td>853</td>\n",
       "      <td>2</td>\n",
       "      <td>2</td>\n",
       "      <td>3</td>\n",
       "      <td>1</td>\n",
       "      <td>1</td>\n",
       "      <td>2</td>\n",
       "      <td>0</td>\n",
       "      <td>neutral_or_dissatisfied</td>\n",
       "    </tr>\n",
       "    <tr>\n",
       "      <th>9</th>\n",
       "      <td>Male</td>\n",
       "      <td>Disloyal_Customer</td>\n",
       "      <td>20</td>\n",
       "      <td>Business travel</td>\n",
       "      <td>Eco</td>\n",
       "      <td>1061</td>\n",
       "      <td>3</td>\n",
       "      <td>4</td>\n",
       "      <td>3</td>\n",
       "      <td>2</td>\n",
       "      <td>3</td>\n",
       "      <td>2</td>\n",
       "      <td>0</td>\n",
       "      <td>neutral_or_dissatisfied</td>\n",
       "    </tr>\n",
       "  </tbody>\n",
       "</table>\n",
       "</div>"
      ],
      "text/plain": [
       "   gender      customer_type  age   type_of_travel customer_class  \\\n",
       "0    Male     Loyal_Customer   13  Personal_Travel       Eco_Plus   \n",
       "1    Male  Disloyal_Customer   25  Business travel       Business   \n",
       "2  Female     Loyal_Customer   26  Business travel       Business   \n",
       "3  Female     Loyal_Customer   25  Business travel       Business   \n",
       "4    Male     Loyal_Customer   61  Business travel       Business   \n",
       "5  Female     Loyal_Customer   26  Personal_Travel            Eco   \n",
       "6    Male     Loyal_Customer   47  Personal_Travel            Eco   \n",
       "7  Female     Loyal_Customer   52  Business travel       Business   \n",
       "8  Female     Loyal_Customer   41  Business travel       Business   \n",
       "9    Male  Disloyal_Customer   20  Business travel            Eco   \n",
       "\n",
       "   flight_distance  departure_arrival_time_convenient  gate_location  \\\n",
       "0              460                                  4              1   \n",
       "1              235                                  2              3   \n",
       "2             1142                                  2              2   \n",
       "3              562                                  5              5   \n",
       "4              214                                  3              3   \n",
       "5             1180                                  4              1   \n",
       "6             1276                                  4              3   \n",
       "7             2035                                  3              4   \n",
       "8              853                                  2              2   \n",
       "9             1061                                  3              4   \n",
       "\n",
       "   seat_comfort  onboard_service  inflight_service  cleanliness  \\\n",
       "0             5                4                 5            5   \n",
       "1             1                1                 4            1   \n",
       "2             5                4                 4            5   \n",
       "3             2                2                 4            2   \n",
       "4             5                3                 3            3   \n",
       "5             1                3                 4            1   \n",
       "6             2                3                 5            2   \n",
       "7             5                5                 5            4   \n",
       "8             3                1                 1            2   \n",
       "9             3                2                 3            2   \n",
       "\n",
       "   departure_delay_in_minutes             satisfaction  \n",
       "0                          25  neutral_or_dissatisfied  \n",
       "1                           1  neutral_or_dissatisfied  \n",
       "2                           0                satisfied  \n",
       "3                          11  neutral_or_dissatisfied  \n",
       "4                           0                satisfied  \n",
       "5                           0  neutral_or_dissatisfied  \n",
       "6                           9  neutral_or_dissatisfied  \n",
       "7                           4                satisfied  \n",
       "8                           0  neutral_or_dissatisfied  \n",
       "9                           0  neutral_or_dissatisfied  "
      ]
     },
     "execution_count": 81,
     "metadata": {},
     "output_type": "execute_result"
    }
   ],
   "source": [
    "csc.head(10)"
   ]
  },
  {
   "cell_type": "markdown",
   "id": "70b722ab",
   "metadata": {},
   "source": [
    "We can manually add all the independent features when we are constructing the regression formula. However, if there are too many independent variables, we can use string function as below."
   ]
  },
  {
   "cell_type": "code",
   "execution_count": 82,
   "id": "cac267b5",
   "metadata": {},
   "outputs": [
    {
     "name": "stdout",
     "output_type": "stream",
     "text": [
      "formula_string:  age ~ gender + customer_type + type_of_travel + customer_class + flight_distance + departure_arrival_time_convenient + gate_location + seat_comfort + onboard_service + inflight_service + cleanliness + departure_delay_in_minutes + satisfaction\n"
     ]
    }
   ],
   "source": [
    "formula_string_indep_vars = ' + '.join(csc.drop(columns='age').columns)\n",
    "formula_string = 'age ~ ' + formula_string_indep_vars\n",
    "print('formula_string: ', formula_string)"
   ]
  },
  {
   "cell_type": "markdown",
   "id": "c789b151",
   "metadata": {},
   "source": [
    "As the formula string presenting above, it works fine with the `Statsmodels` module. But we need to do \"one-hot-encoding\" for categorical features since we cannot do automatic variable selection with that formula.\n",
    "\n",
    "As the code showing below, we use the `get_dummies()` function in `Pandas` for one-hot-encoding of categorical features and we can construct a new formula string with the encoded features."
   ]
  },
  {
   "cell_type": "code",
   "execution_count": 83,
   "id": "2f95e58d",
   "metadata": {},
   "outputs": [
    {
     "data": {
      "text/html": [
       "<div>\n",
       "<style scoped>\n",
       "    .dataframe tbody tr th:only-of-type {\n",
       "        vertical-align: middle;\n",
       "    }\n",
       "\n",
       "    .dataframe tbody tr th {\n",
       "        vertical-align: top;\n",
       "    }\n",
       "\n",
       "    .dataframe thead th {\n",
       "        text-align: right;\n",
       "    }\n",
       "</style>\n",
       "<table border=\"1\" class=\"dataframe\">\n",
       "  <thead>\n",
       "    <tr style=\"text-align: right;\">\n",
       "      <th></th>\n",
       "      <th>age</th>\n",
       "      <th>flight_distance</th>\n",
       "      <th>departure_arrival_time_convenient</th>\n",
       "      <th>gate_location</th>\n",
       "      <th>seat_comfort</th>\n",
       "      <th>onboard_service</th>\n",
       "      <th>inflight_service</th>\n",
       "      <th>cleanliness</th>\n",
       "      <th>departure_delay_in_minutes</th>\n",
       "      <th>gender_Male</th>\n",
       "      <th>customer_type_Loyal_Customer</th>\n",
       "      <th>type_of_travel_Personal_Travel</th>\n",
       "      <th>customer_class_Eco</th>\n",
       "      <th>customer_class_Eco_Plus</th>\n",
       "      <th>satisfaction_satisfied</th>\n",
       "    </tr>\n",
       "  </thead>\n",
       "  <tbody>\n",
       "    <tr>\n",
       "      <th>0</th>\n",
       "      <td>13</td>\n",
       "      <td>460</td>\n",
       "      <td>4</td>\n",
       "      <td>1</td>\n",
       "      <td>5</td>\n",
       "      <td>4</td>\n",
       "      <td>5</td>\n",
       "      <td>5</td>\n",
       "      <td>25</td>\n",
       "      <td>1</td>\n",
       "      <td>1</td>\n",
       "      <td>1</td>\n",
       "      <td>0</td>\n",
       "      <td>1</td>\n",
       "      <td>0</td>\n",
       "    </tr>\n",
       "    <tr>\n",
       "      <th>1</th>\n",
       "      <td>25</td>\n",
       "      <td>235</td>\n",
       "      <td>2</td>\n",
       "      <td>3</td>\n",
       "      <td>1</td>\n",
       "      <td>1</td>\n",
       "      <td>4</td>\n",
       "      <td>1</td>\n",
       "      <td>1</td>\n",
       "      <td>1</td>\n",
       "      <td>0</td>\n",
       "      <td>0</td>\n",
       "      <td>0</td>\n",
       "      <td>0</td>\n",
       "      <td>0</td>\n",
       "    </tr>\n",
       "    <tr>\n",
       "      <th>2</th>\n",
       "      <td>26</td>\n",
       "      <td>1142</td>\n",
       "      <td>2</td>\n",
       "      <td>2</td>\n",
       "      <td>5</td>\n",
       "      <td>4</td>\n",
       "      <td>4</td>\n",
       "      <td>5</td>\n",
       "      <td>0</td>\n",
       "      <td>0</td>\n",
       "      <td>1</td>\n",
       "      <td>0</td>\n",
       "      <td>0</td>\n",
       "      <td>0</td>\n",
       "      <td>1</td>\n",
       "    </tr>\n",
       "    <tr>\n",
       "      <th>3</th>\n",
       "      <td>25</td>\n",
       "      <td>562</td>\n",
       "      <td>5</td>\n",
       "      <td>5</td>\n",
       "      <td>2</td>\n",
       "      <td>2</td>\n",
       "      <td>4</td>\n",
       "      <td>2</td>\n",
       "      <td>11</td>\n",
       "      <td>0</td>\n",
       "      <td>1</td>\n",
       "      <td>0</td>\n",
       "      <td>0</td>\n",
       "      <td>0</td>\n",
       "      <td>0</td>\n",
       "    </tr>\n",
       "    <tr>\n",
       "      <th>4</th>\n",
       "      <td>61</td>\n",
       "      <td>214</td>\n",
       "      <td>3</td>\n",
       "      <td>3</td>\n",
       "      <td>5</td>\n",
       "      <td>3</td>\n",
       "      <td>3</td>\n",
       "      <td>3</td>\n",
       "      <td>0</td>\n",
       "      <td>1</td>\n",
       "      <td>1</td>\n",
       "      <td>0</td>\n",
       "      <td>0</td>\n",
       "      <td>0</td>\n",
       "      <td>1</td>\n",
       "    </tr>\n",
       "  </tbody>\n",
       "</table>\n",
       "</div>"
      ],
      "text/plain": [
       "   age  flight_distance  departure_arrival_time_convenient  gate_location  \\\n",
       "0   13              460                                  4              1   \n",
       "1   25              235                                  2              3   \n",
       "2   26             1142                                  2              2   \n",
       "3   25              562                                  5              5   \n",
       "4   61              214                                  3              3   \n",
       "\n",
       "   seat_comfort  onboard_service  inflight_service  cleanliness  \\\n",
       "0             5                4                 5            5   \n",
       "1             1                1                 4            1   \n",
       "2             5                4                 4            5   \n",
       "3             2                2                 4            2   \n",
       "4             5                3                 3            3   \n",
       "\n",
       "   departure_delay_in_minutes  gender_Male  customer_type_Loyal_Customer  \\\n",
       "0                          25            1                             1   \n",
       "1                           1            1                             0   \n",
       "2                           0            0                             1   \n",
       "3                          11            0                             1   \n",
       "4                           0            1                             1   \n",
       "\n",
       "   type_of_travel_Personal_Travel  customer_class_Eco  \\\n",
       "0                               1                   0   \n",
       "1                               0                   0   \n",
       "2                               0                   0   \n",
       "3                               0                   0   \n",
       "4                               0                   0   \n",
       "\n",
       "   customer_class_Eco_Plus  satisfaction_satisfied  \n",
       "0                        1                       0  \n",
       "1                        0                       0  \n",
       "2                        0                       1  \n",
       "3                        0                       0  \n",
       "4                        0                       1  "
      ]
     },
     "execution_count": 83,
     "metadata": {},
     "output_type": "execute_result"
    }
   ],
   "source": [
    "# one-hot-encoding of categorical features\n",
    "csc_encoded = pd.get_dummies(csc, drop_first=True)\n",
    "csc_encoded.head()"
   ]
  },
  {
   "cell_type": "code",
   "execution_count": 84,
   "id": "0ea074ef",
   "metadata": {},
   "outputs": [
    {
     "name": "stdout",
     "output_type": "stream",
     "text": [
      "formula_string_encoded:  age ~ flight_distance + departure_arrival_time_convenient + gate_location + seat_comfort + onboard_service + inflight_service + cleanliness + departure_delay_in_minutes + gender_Male + customer_type_Loyal_Customer + type_of_travel_Personal_Travel + customer_class_Eco + customer_class_Eco_Plus + satisfaction_satisfied\n"
     ]
    }
   ],
   "source": [
    "formula_string_indep_vars_encoded = ' + '.join(csc_encoded.drop(columns='age').columns)\n",
    "formula_string_encoded = 'age ~ ' + formula_string_indep_vars_encoded\n",
    "print('formula_string_encoded: ', formula_string_encoded)"
   ]
  },
  {
   "cell_type": "markdown",
   "id": "e65e6f53",
   "metadata": {},
   "source": [
    "Next, we add two interaction terms to our full model. We choose to add the interaction of the `flight_distance` feature with `departure_delay_in_minutes` and `satisfaction_satisfied` respectively."
   ]
  },
  {
   "cell_type": "code",
   "execution_count": 85,
   "id": "6b104532",
   "metadata": {},
   "outputs": [],
   "source": [
    "formula_string_encoded = formula_string_encoded + ' + departure_delay_in_minutes:flight_distance + satisfaction_satisfied:flight_distance'"
   ]
  },
  {
   "cell_type": "markdown",
   "id": "4ba1d614",
   "metadata": {},
   "source": [
    "And we add the square of the `departure_delay_in_minutes` feature to illustrate how we can add higher order terms to our linear regression."
   ]
  },
  {
   "cell_type": "code",
   "execution_count": 86,
   "id": "09c85b3b",
   "metadata": {},
   "outputs": [
    {
     "name": "stdout",
     "output_type": "stream",
     "text": [
      "formula_string_encoded:  age ~ flight_distance + departure_arrival_time_convenient + gate_location + seat_comfort + onboard_service + inflight_service + cleanliness + departure_delay_in_minutes + gender_Male + customer_type_Loyal_Customer + type_of_travel_Personal_Travel + customer_class_Eco + customer_class_Eco_Plus + satisfaction_satisfied + departure_delay_in_minutes:flight_distance + satisfaction_satisfied:flight_distance + np.power(departure_delay_in_minutes, 2)\n"
     ]
    }
   ],
   "source": [
    "formula_string_encoded = formula_string_encoded + ' + np.power(departure_delay_in_minutes, 2)'\n",
    "print('formula_string_encoded: ', formula_string_encoded)"
   ]
  },
  {
   "cell_type": "markdown",
   "id": "12290865",
   "metadata": {},
   "source": [
    "Now, we have defined our statistical model formula as a Python string and fit an OLS (ordinary least squares) model to our encoded data."
   ]
  },
  {
   "cell_type": "code",
   "execution_count": 87,
   "id": "197e3341",
   "metadata": {},
   "outputs": [
    {
     "name": "stdout",
     "output_type": "stream",
     "text": [
      "                            OLS Regression Results                            \n",
      "==============================================================================\n",
      "Dep. Variable:                    age   R-squared:                       0.122\n",
      "Model:                            OLS   Adj. R-squared:                  0.122\n",
      "Method:                 Least Squares   F-statistic:                     1066.\n",
      "Date:                Tue, 19 Oct 2021   Prob (F-statistic):               0.00\n",
      "Time:                        18:02:17   Log-Likelihood:            -5.2856e+05\n",
      "No. Observations:              129880   AIC:                         1.057e+06\n",
      "Df Residuals:                  129862   BIC:                         1.057e+06\n",
      "Df Model:                          17                                         \n",
      "Covariance Type:            nonrobust                                         \n",
      "==============================================================================================================\n",
      "                                                 coef    std err          t      P>|t|      [0.025      0.975]\n",
      "--------------------------------------------------------------------------------------------------------------\n",
      "Intercept                                     32.2122      0.252    128.034      0.000      31.719      32.705\n",
      "flight_distance                               -0.0013   7.32e-05    -17.734      0.000      -0.001      -0.001\n",
      "departure_arrival_time_convenient              0.1311      0.031      4.259      0.000       0.071       0.191\n",
      "gate_location                                 -0.0882      0.035     -2.515      0.012      -0.157      -0.019\n",
      "seat_comfort                                   1.6991      0.042     40.379      0.000       1.617       1.782\n",
      "onboard_service                                0.8326      0.038     21.914      0.000       0.758       0.907\n",
      "inflight_service                              -1.2502      0.041    -30.556      0.000      -1.330      -1.170\n",
      "cleanliness                                   -0.9796      0.041    -23.715      0.000      -1.061      -0.899\n",
      "departure_delay_in_minutes                    -0.0028      0.002     -1.507      0.132      -0.007       0.001\n",
      "gender_Male                                    0.2566      0.079      3.255      0.001       0.102       0.411\n",
      "customer_type_Loyal_Customer                  11.8913      0.126     94.335      0.000      11.644      12.138\n",
      "type_of_travel_Personal_Travel                -3.9044      0.127    -30.682      0.000      -4.154      -3.655\n",
      "customer_class_Eco                            -1.5427      0.114    -13.585      0.000      -1.765      -1.320\n",
      "customer_class_Eco_Plus                       -1.9847      0.172    -11.568      0.000      -2.321      -1.648\n",
      "satisfaction_satisfied                        -1.8457      0.148    -12.495      0.000      -2.135      -1.556\n",
      "departure_delay_in_minutes:flight_distance  3.557e-08   1.05e-06      0.034      0.973   -2.02e-06    2.09e-06\n",
      "satisfaction_satisfied:flight_distance         0.0012   8.61e-05     13.669      0.000       0.001       0.001\n",
      "np.power(departure_delay_in_minutes, 2)    -2.385e-06   3.65e-06     -0.653      0.514   -9.54e-06    4.77e-06\n",
      "==============================================================================\n",
      "Omnibus:                      701.884   Durbin-Watson:                   1.999\n",
      "Prob(Omnibus):                  0.000   Jarque-Bera (JB):              544.770\n",
      "Skew:                           0.073   Prob(JB):                    5.07e-119\n",
      "Kurtosis:                       2.718   Cond. No.                     4.55e+05\n",
      "==============================================================================\n",
      "\n",
      "Notes:\n",
      "[1] Standard Errors assume that the covariance matrix of the errors is correctly specified.\n",
      "[2] The condition number is large, 4.55e+05. This might indicate that there are\n",
      "strong multicollinearity or other numerical problems.\n"
     ]
    }
   ],
   "source": [
    "model_full = sm.formula.ols(formula=formula_string_encoded, data=csc_encoded)\n",
    "###\n",
    "model_full_fitted = model_full.fit()\n",
    "###\n",
    "print(model_full_fitted.summary())"
   ]
  },
  {
   "cell_type": "markdown",
   "id": "9e6dba78",
   "metadata": {},
   "source": [
    "#### Feature Selection"
   ]
  },
  {
   "cell_type": "markdown",
   "id": "37fa3bc5",
   "metadata": {},
   "source": [
    "We use the code below to perform backward feature selection using p-values ([credit](https://github.com/vaksakalli/stats_tutorials/blob/master/Regression_Case_Study1_web.ipynb))."
   ]
  },
  {
   "cell_type": "code",
   "execution_count": 6,
   "id": "952f0dd9",
   "metadata": {},
   "outputs": [
    {
     "ename": "NameError",
     "evalue": "name 'formula_string_encoded' is not defined",
     "output_type": "error",
     "traceback": [
      "\u001b[1;31m---------------------------------------------------------------------------\u001b[0m",
      "\u001b[1;31mNameError\u001b[0m                                 Traceback (most recent call last)",
      "\u001b[1;32m<ipython-input-6-c07e6eee9514>\u001b[0m in \u001b[0;36m<module>\u001b[1;34m\u001b[0m\n\u001b[0;32m      1\u001b[0m \u001b[1;31m## create the patsy model description from formula\u001b[0m\u001b[1;33m\u001b[0m\u001b[1;33m\u001b[0m\u001b[1;33m\u001b[0m\u001b[0m\n\u001b[1;32m----> 2\u001b[1;33m \u001b[0mpatsy_description\u001b[0m \u001b[1;33m=\u001b[0m \u001b[0mpatsy\u001b[0m\u001b[1;33m.\u001b[0m\u001b[0mModelDesc\u001b[0m\u001b[1;33m.\u001b[0m\u001b[0mfrom_formula\u001b[0m\u001b[1;33m(\u001b[0m\u001b[0mformula_string_encoded\u001b[0m\u001b[1;33m)\u001b[0m\u001b[1;33m\u001b[0m\u001b[1;33m\u001b[0m\u001b[0m\n\u001b[0m\u001b[0;32m      3\u001b[0m \u001b[1;33m\u001b[0m\u001b[0m\n\u001b[0;32m      4\u001b[0m \u001b[1;31m# initialize feature-selected fit to full model\u001b[0m\u001b[1;33m\u001b[0m\u001b[1;33m\u001b[0m\u001b[1;33m\u001b[0m\u001b[0m\n\u001b[0;32m      5\u001b[0m \u001b[0mlinreg_fit\u001b[0m \u001b[1;33m=\u001b[0m \u001b[0mmodel_full_fitted\u001b[0m\u001b[1;33m\u001b[0m\u001b[1;33m\u001b[0m\u001b[0m\n",
      "\u001b[1;31mNameError\u001b[0m: name 'formula_string_encoded' is not defined"
     ]
    }
   ],
   "source": [
    "## create the patsy model description from formula\n",
    "patsy_description = patsy.ModelDesc.from_formula(formula_string_encoded)\n",
    "\n",
    "# initialize feature-selected fit to full model\n",
    "linreg_fit = model_full_fitted\n",
    "\n",
    "# do backwards elimination using p-values\n",
    "p_val_cutoff = 0.05\n",
    "\n",
    "## WARNING 1: The code below assumes that the Intercept term is present in the model.\n",
    "## WARNING 2: It will work only with main effects and two-way interactions, if any.\n",
    "\n",
    "print('\\nPerforming backwards feature selection using p-values:')\n",
    "\n",
    "while True:\n",
    "\n",
    "    # uncomment the line below if you would like to see the regression summary\n",
    "    # in each step:\n",
    "    ### print(linreg_fit.summary())\n",
    "\n",
    "    pval_series = linreg_fit.pvalues.drop(labels='Intercept')\n",
    "    pval_series = pval_series.sort_values(ascending=False)\n",
    "    term = pval_series.index[0]\n",
    "    pval = pval_series[0]\n",
    "    if (pval < p_val_cutoff):\n",
    "        break\n",
    "    term_components = term.split(':')\n",
    "    print(f'\\nRemoving term \"{term}\" with p-value {pval:.4}')\n",
    "    if (len(term_components) == 1): ## this is a main effect term\n",
    "        patsy_description.rhs_termlist.remove(patsy.Term([patsy.EvalFactor(term_components[0])]))    \n",
    "    else: ## this is an interaction term\n",
    "        patsy_description.rhs_termlist.remove(patsy.Term([patsy.EvalFactor(term_components[0]), \n",
    "                                                        patsy.EvalFactor(term_components[1])]))    \n",
    "        \n",
    "    linreg_fit = smf.ols(formula=patsy_description, data=data_encoded).fit()\n",
    "    \n",
    "###\n",
    "## this is the clean fit after backwards elimination\n",
    "model_reduced_fitted = smf.ols(formula = patsy_description, data = data_encoded).fit()\n",
    "###\n",
    "    \n",
    "#########\n",
    "print(\"\\n***\")\n",
    "print(model_reduced_fitted.summary())\n",
    "print(\"***\")\n",
    "print(f\"Regression number of terms: {len(model_reduced_fitted.model.exog_names)}\")\n",
    "print(f\"Regression F-distribution p-value: {model_reduced_fitted.f_pvalue:.4f}\")\n",
    "print(f\"Regression R-squared: {model_reduced_fitted.rsquared:.4f}\")\n",
    "print(f\"Regression Adjusted R-squared: {model_reduced_fitted.rsquared_adj:.4f}\")"
   ]
  },
  {
   "cell_type": "markdown",
   "id": "74a0def2",
   "metadata": {},
   "source": [
    "## Neural Network Model Fitting & Tuning <a id='Review'></a>"
   ]
  },
  {
   "cell_type": "markdown",
   "id": "541c8583",
   "metadata": {},
   "source": []
  },
  {
   "cell_type": "markdown",
   "id": "9fbf01a4",
   "metadata": {},
   "source": [
    "## Critique & Limitations <a id='cl'></a>"
   ]
  },
  {
   "cell_type": "markdown",
   "id": "9ea7be47",
   "metadata": {},
   "source": []
  },
  {
   "cell_type": "markdown",
   "id": "88fb05f8",
   "metadata": {},
   "source": [
    "## Summary & Conclusions <a id='sc'></a>"
   ]
  },
  {
   "cell_type": "markdown",
   "id": "649f654c",
   "metadata": {},
   "source": [
    "### Project Summary"
   ]
  },
  {
   "cell_type": "markdown",
   "id": "d6a2b157",
   "metadata": {},
   "source": []
  },
  {
   "cell_type": "markdown",
   "id": "9696a209",
   "metadata": {},
   "source": [
    "### Summary of Findings"
   ]
  },
  {
   "cell_type": "markdown",
   "id": "870be21a",
   "metadata": {},
   "source": []
  },
  {
   "cell_type": "markdown",
   "id": "41b3df8a",
   "metadata": {},
   "source": [
    "### Conclusions"
   ]
  },
  {
   "cell_type": "markdown",
   "id": "0640848f",
   "metadata": {},
   "source": []
  },
  {
   "cell_type": "code",
   "execution_count": null,
   "id": "792d3efb",
   "metadata": {},
   "outputs": [],
   "source": []
  }
 ],
 "metadata": {
  "kernelspec": {
   "display_name": "Python 3",
   "language": "python",
   "name": "python3"
  },
  "language_info": {
   "codemirror_mode": {
    "name": "ipython",
    "version": 3
   },
   "file_extension": ".py",
   "mimetype": "text/x-python",
   "name": "python",
   "nbconvert_exporter": "python",
   "pygments_lexer": "ipython3",
   "version": "3.8.8"
  }
 },
 "nbformat": 4,
 "nbformat_minor": 5
}
